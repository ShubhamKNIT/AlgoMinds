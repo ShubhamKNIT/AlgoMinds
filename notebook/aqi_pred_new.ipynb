{
 "cells": [
  {
   "cell_type": "markdown",
   "id": "8cd20492-66a2-408c-8ab8-f76513f2a7be",
   "metadata": {},
   "source": [
    "## Predicting AQI in various cities of INDIA using MACHINE LEARNING"
   ]
  }
 ],
 "metadata": {
  "kernelspec": {
   "display_name": "Python 3 (ipykernel)",
   "language": "python",
   "name": "python3"
  },
  "language_info": {
   "codemirror_mode": {
    "name": "ipython",
    "version": 3
   },
   "file_extension": ".py",
   "mimetype": "text/x-python",
   "name": "python",
   "nbconvert_exporter": "python",
   "pygments_lexer": "ipython3",
   "version": "3.11.7"
  }
 },
 "nbformat": 4,
 "nbformat_minor": 5
}
