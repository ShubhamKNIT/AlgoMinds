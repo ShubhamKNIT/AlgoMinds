


import pandas as pd
import seaborn as sns
from matplotlib import pyplot as plt
import warnings
from scipy import interpolate
pd.set_option('display.max_columns', None)
warnings.filterwarnings("ignore")



df = pd.read_csv('city_aqi_day.csv', parse_dates = ['Date'], low_memory = False)


df.info()


df.describe()


df.head()





round(df.isna().sum()/len(df) * 100, 2)





aqi_bucket_percentages = (df['AQI_Bucket'].value_counts() / len(df)) * 100
plt.figure(figsize=(8, 8))
plt.pie(aqi_bucket_percentages, labels=aqi_bucket_percentages.index, autopct='%1.1f%%', startangle=140)
plt.title('Distribution of AQI Buckets')
plt.show()


df.groupby('AQI_Bucket').size().plot(kind='barh', color=sns.palettes.mpl_palette('Dark2'))
plt.gca().spines[['top', 'right',]].set_visible(False)


#AQI_Bucket with respect to cities
plt.figure(figsize=(12,6))
sns.histplot(data=df,x='City',hue='AQI_Bucket',palette='Dark2',multiple='stack',shrink=0.8)
plt.xticks(rotation=90)
plt.show()



def pair_plot(df):
  sns.pairplot(df, diag_kind="kde", markers="+",
                  plot_kws=dict(s=50, edgecolor="b", linewidth=1),
                  diag_kws=dict(shade=True))


pair_plot(df)


def column_density(df, columns):
    n_rows = len(columns)
    fig, axes = plt.subplots(nrows=n_rows, ncols=1, figsize=(10, 10))

    for i, col in enumerate(columns):
        sns.kdeplot(data=df, x=col,color='red', fill=True, ax=axes[i])

    plt.tight_layout()
    plt.show()






col = ['PM2.5','PM10','NO2','CO','O3','SO2']
column_density(df,col)


def outlier_detection(df,columns):
    n_rows = len(columns)
    fig, axes = plt.subplots(nrows=n_rows, ncols=1, figsize=(10, 25))

    for i, col in enumerate(columns):
        sns.boxplot(data=df,x='AQI_Bucket',y=col,palette='Dark2', fill=True, ax=axes[i])
    plt.show()



col = ['PM2.5','PM10','NO2','CO','O3','SO2']
outlier_detection(df,col)





#replacing the missing values with mean of respective city
df = df.fillna(df.groupby('City').transform('mean'))


#replacing categorical missing values with most frequent value int the column AQI_Bucket
df['AQI_Bucket'] = df.groupby('City')['AQI_Bucket'].transform(lambda x: x.fillna(x.mode()[0]))


df.isna().sum()


col = ['PM2.5','PM10','NO2','CO','O3','SO2']
column_density(df,col)


df.head()



df.describe()





def plot_corr_matrix(df):
  # Create the correlation matrix
  plt.figure(figsize=(12,6))
  correlation_matrix = df.corr()

  # Generate a heatmap
  sns.heatmap(correlation_matrix, annot=True)
  plt.show()


plot_corr_matrix(df)





df1 = df.copy()


f = interpolate.interp1d(df1['O3'].dropna().index, df1['O3'].dropna())
df1['O3'] = f(df1['O3'].index)
f = interpolate.interp1d(df1['PM10'].dropna().index, df1['PM10'].dropna())
df1['PM10'] = f(df1['PM10'].index)


df1.drop(columns=['NOx','NH3','Benzene','Xylene','Toluene'],inplace=True)


df1.shape


df1.isna().sum()


col = ['PM2.5','PM10','NO2','CO','O3','SO2']
column_density(df1,col)


plot_corr_matrix(df1)


pair_plot(df1)





df_no_missing = pd.read_csv('no_missing.csv', parse_dates = ['Date'], low_memory = False)


df_no_missing02 = df_no_missing.copy() #data frame where the ouliers will be removed


buckets = df.AQI_Bucket.unique()
columns = ['PM2.5', 'PM10', 'NO', 'NO2', 'CO', 'SO2', 'O3']
print(buckets)


#function for calculating lower and upper bounds for each column using percentiles

def evaluate_limits(df, aqi_bucket, single_column):
    # Get the data for the current aqi_bucket
    data = df[df['AQI_Bucket'] == aqi_bucket]

    lower_percentile = 5
    upper_percentile = 95
    lower_bound = data[single_column].quantile(lower_percentile / 100)
    upper_bound = data[single_column].quantile(upper_percentile / 100)

    return lower_bound, upper_bound


from tabulate import tabulate

def show_limits(df, buckets, columns):
      for aqi_bucket in buckets:
        table_data = []  # List to store table rows

        # Get the data for the current aqi_bucket
        data = df[df['AQI_Bucket'] == aqi_bucket]

        for column in columns:
            # Getting upper and lower bound from calling functions
            lower_bound, upper_bound = evaluate_limits(df, aqi_bucket, column)
            table_data.append([column, lower_bound, upper_bound])

            # Print the table using tabulate with pipe format
        print(f"AQI Bucket: {aqi_bucket}")
        print("-" * 44)
        print(tabulate(table_data, headers=['Column', 'Lower Bound', 'Upper Bound'], tablefmt='pipe'))
        print("-" * 44)
        print()
        print()


#show limits before removal of outliers
columns = ['PM2.5', 'PM10', 'NO2', 'CO', 'O3', 'SO2']
buckets = ['Severe', 'Poor','Very Poor', 'Moderate','Satisfactory','Good']
show_limits(df_no_missing, buckets, columns)


#print first 3 outliers of some columns

def show_outliers(df, buckets, specific_columns):
    for aqi_bucket in buckets:
        for column in specific_columns:
            lower_bound, upper_bound = evaluate_limits(df, aqi_bucket, column)
            print(f"Column: {column}   AQI Bucket: {aqi_bucket}")
            outliers = df[(df[column] > upper_bound) | (df[column] < lower_bound)].head(3)
            if not outliers.empty:
                # Specify the columns to show the spcific ones
                outliers_filtered = outliers[specific_columns]
                print(outliers_filtered)
            else:
                print("No outliers found.")
            print()
            print()
            print()


specific_columns = ['PM2.5', 'PM10', 'NO2', 'CO', 'O3', 'SO2']
buckets = ['Severe', 'Poor','Very Poor', 'Moderate','Satisfactory','Good']
show_outliers(df_no_missing, buckets, specific_columns)



def replace_outliers(df, buckets, columns):
    for aqi_bucket in buckets:
        # Get the data for the current label
        data = df[df['AQI_Bucket'] == aqi_bucket]

        # getting lower and upper bounds for each column by calling predefined function
        for column in columns:
            lower_bound, upper_bound = evaluate_limits(df, aqi_bucket, column)

            # Find the outlier indices
            outlier_indices = data[((data[column] > upper_bound) | (data[column] < lower_bound))].index

            # Replace outliers with the mean
            df.loc[outlier_indices, column] = data[column].mean()
    return df



buckets = ['Severe', 'Poor','Very Poor', 'Moderate','Satisfactory','Good']
columns = ['PM2.5', 'PM10', 'NO2', 'CO', 'O3', 'SO2']

#removinf the outliers from dataframe df_no_missing02
df_no_missing02 = replace_outliers(df_no_missing02, buckets, columns)


#print limits after removal of outliers
columns = ['PM2.5', 'PM10', 'NO2', 'CO', 'O3', 'SO2']
buckets = ['Severe', 'Poor','Very Poor', 'Moderate','Satisfactory','Good']
show_limits(df_no_missing02, buckets, columns)


#boxplot before removal of outliers
outlier_detection(df_no_missing, columns)


#boxplot after removal of outliers
outlier_detection(df_no_missing02, columns)


df_no_missing.describe()


df_no_missing02.describe()


df_no_missing02.isna().sum()


#plotting without AQI_BUCKET for visualizing the whole data
def boxplt(df, columns):
    fig, axes = plt.subplots(1, len(columns), figsize=(15, 4))  # Adjust figsize as needed
    for idx, col in enumerate(columns):
        sns.boxplot(y=df[col], ax=axes[idx])
        axes[idx].set_xlabel(col)
        axes[idx].set_ylim(0, 600)  # Set the y-axis range from 0 to 300
    plt.tight_layout()
    plt.show()

columns = ['PM2.5', 'PM10', 'NO2', 'CO', 'O3', 'SO2']
print("Normal Boxplot beore removal of Outliers")
print()
boxplt(df_no_missing, columns)
print("\n\n")
print("Normal Boxplot after removal of Outliers")
print()
boxplt(df_no_missing02 , columns)


  # Create the correlation matrix
print("Correlation matrix before removal of outliers")
print()
plot_corr_matrix(df_no_missing)


# Create the correlation matrix
print("Correlation matrix before removal of outliers")
print()
plot_corr_matrix(df_no_missing02)


col = ['PM2.5','PM10','NO2','CO','O3','SO2']
column_density(df_no_missing02,col)


pair_plot(df_no_missing02)



